{
  "nbformat": 4,
  "nbformat_minor": 0,
  "metadata": {
    "colab": {
      "name": "Untitled0.ipynb",
      "provenance": [],
      "authorship_tag": "ABX9TyOV0VTubr2rIPq72HynfPKW",
      "include_colab_link": true
    },
    "kernelspec": {
      "name": "python3",
      "display_name": "Python 3"
    }
  },
  "cells": [
    {
      "cell_type": "markdown",
      "metadata": {
        "id": "view-in-github",
        "colab_type": "text"
      },
      "source": [
        "<a href=\"https://colab.research.google.com/github/TharushiJothirathna/Project-Rest_room/blob/master/chatbot.ipynb\" target=\"_parent\"><img src=\"https://colab.research.google.com/assets/colab-badge.svg\" alt=\"Open In Colab\"/></a>"
      ]
    },
    {
      "cell_type": "code",
      "metadata": {
        "id": "O4AK2JMd2FeA"
      },
      "source": [
        "#description: This is a \"smart\" chatbot program"
      ],
      "execution_count": null,
      "outputs": []
    },
    {
      "cell_type": "code",
      "metadata": {
        "id": "MoTUISke2maq",
        "outputId": "936ad85f-5c51-48fd-c983-002057ff83eb",
        "colab": {
          "base_uri": "https://localhost:8080/"
        }
      },
      "source": [
        "pip install nltk"
      ],
      "execution_count": null,
      "outputs": [
        {
          "output_type": "stream",
          "text": [
            "Requirement already satisfied: nltk in /usr/local/lib/python3.6/dist-packages (3.2.5)\n",
            "Requirement already satisfied: six in /usr/local/lib/python3.6/dist-packages (from nltk) (1.15.0)\n"
          ],
          "name": "stdout"
        }
      ]
    },
    {
      "cell_type": "code",
      "metadata": {
        "id": "S4pbRUgg26hh",
        "outputId": "23f5cf6d-7204-4df1-e174-f600960365ca",
        "colab": {
          "base_uri": "https://localhost:8080/"
        }
      },
      "source": [
        "pip install newspaper3k"
      ],
      "execution_count": null,
      "outputs": [
        {
          "output_type": "stream",
          "text": [
            "Collecting newspaper3k\n",
            "\u001b[?25l  Downloading https://files.pythonhosted.org/packages/d7/b9/51afecb35bb61b188a4b44868001de348a0e8134b4dfa00ffc191567c4b9/newspaper3k-0.2.8-py3-none-any.whl (211kB)\n",
            "\r\u001b[K     |█▌                              | 10kB 12.7MB/s eta 0:00:01\r\u001b[K     |███                             | 20kB 16.9MB/s eta 0:00:01\r\u001b[K     |████▋                           | 30kB 12.7MB/s eta 0:00:01\r\u001b[K     |██████▏                         | 40kB 9.2MB/s eta 0:00:01\r\u001b[K     |███████▊                        | 51kB 4.0MB/s eta 0:00:01\r\u001b[K     |█████████▎                      | 61kB 4.6MB/s eta 0:00:01\r\u001b[K     |██████████▉                     | 71kB 5.0MB/s eta 0:00:01\r\u001b[K     |████████████▍                   | 81kB 5.3MB/s eta 0:00:01\r\u001b[K     |██████████████                  | 92kB 5.6MB/s eta 0:00:01\r\u001b[K     |███████████████▌                | 102kB 5.9MB/s eta 0:00:01\r\u001b[K     |█████████████████               | 112kB 5.9MB/s eta 0:00:01\r\u001b[K     |██████████████████▋             | 122kB 5.9MB/s eta 0:00:01\r\u001b[K     |████████████████████▏           | 133kB 5.9MB/s eta 0:00:01\r\u001b[K     |█████████████████████▊          | 143kB 5.9MB/s eta 0:00:01\r\u001b[K     |███████████████████████▎        | 153kB 5.9MB/s eta 0:00:01\r\u001b[K     |████████████████████████▉       | 163kB 5.9MB/s eta 0:00:01\r\u001b[K     |██████████████████████████▍     | 174kB 5.9MB/s eta 0:00:01\r\u001b[K     |████████████████████████████    | 184kB 5.9MB/s eta 0:00:01\r\u001b[K     |█████████████████████████████▌  | 194kB 5.9MB/s eta 0:00:01\r\u001b[K     |███████████████████████████████ | 204kB 5.9MB/s eta 0:00:01\r\u001b[K     |████████████████████████████████| 215kB 5.9MB/s \n",
            "\u001b[?25hRequirement already satisfied: python-dateutil>=2.5.3 in /usr/local/lib/python3.6/dist-packages (from newspaper3k) (2.8.1)\n",
            "Collecting feedfinder2>=0.0.4\n",
            "  Downloading https://files.pythonhosted.org/packages/35/82/1251fefec3bb4b03fd966c7e7f7a41c9fc2bb00d823a34c13f847fd61406/feedfinder2-0.0.4.tar.gz\n",
            "Requirement already satisfied: nltk>=3.2.1 in /usr/local/lib/python3.6/dist-packages (from newspaper3k) (3.2.5)\n",
            "Requirement already satisfied: requests>=2.10.0 in /usr/local/lib/python3.6/dist-packages (from newspaper3k) (2.23.0)\n",
            "Collecting feedparser>=5.2.1\n",
            "\u001b[?25l  Downloading https://files.pythonhosted.org/packages/1c/21/faf1bac028662cc8adb2b5ef7a6f3999a765baa2835331df365289b0ca56/feedparser-6.0.2-py3-none-any.whl (80kB)\n",
            "\u001b[K     |████████████████████████████████| 81kB 7.9MB/s \n",
            "\u001b[?25hCollecting jieba3k>=0.35.1\n",
            "\u001b[?25l  Downloading https://files.pythonhosted.org/packages/a9/cb/2c8332bcdc14d33b0bedd18ae0a4981a069c3513e445120da3c3f23a8aaa/jieba3k-0.35.1.zip (7.4MB)\n",
            "\u001b[K     |████████████████████████████████| 7.4MB 35.1MB/s \n",
            "\u001b[?25hCollecting tinysegmenter==0.3\n",
            "  Downloading https://files.pythonhosted.org/packages/17/82/86982e4b6d16e4febc79c2a1d68ee3b707e8a020c5d2bc4af8052d0f136a/tinysegmenter-0.3.tar.gz\n",
            "Collecting cssselect>=0.9.2\n",
            "  Downloading https://files.pythonhosted.org/packages/3b/d4/3b5c17f00cce85b9a1e6f91096e1cc8e8ede2e1be8e96b87ce1ed09e92c5/cssselect-1.1.0-py2.py3-none-any.whl\n",
            "Requirement already satisfied: Pillow>=3.3.0 in /usr/local/lib/python3.6/dist-packages (from newspaper3k) (7.0.0)\n",
            "Collecting tldextract>=2.0.1\n",
            "\u001b[?25l  Downloading https://files.pythonhosted.org/packages/ff/9e/578ea24d0149a5c179ded8ea53e2b8fc35d22f7bfdee9564844873b147ea/tldextract-3.0.2-py2.py3-none-any.whl (86kB)\n",
            "\u001b[K     |████████████████████████████████| 92kB 8.2MB/s \n",
            "\u001b[?25hRequirement already satisfied: PyYAML>=3.11 in /usr/local/lib/python3.6/dist-packages (from newspaper3k) (3.13)\n",
            "Requirement already satisfied: beautifulsoup4>=4.4.1 in /usr/local/lib/python3.6/dist-packages (from newspaper3k) (4.6.3)\n",
            "Requirement already satisfied: lxml>=3.6.0 in /usr/local/lib/python3.6/dist-packages (from newspaper3k) (4.2.6)\n",
            "Requirement already satisfied: six>=1.5 in /usr/local/lib/python3.6/dist-packages (from python-dateutil>=2.5.3->newspaper3k) (1.15.0)\n",
            "Requirement already satisfied: chardet<4,>=3.0.2 in /usr/local/lib/python3.6/dist-packages (from requests>=2.10.0->newspaper3k) (3.0.4)\n",
            "Requirement already satisfied: urllib3!=1.25.0,!=1.25.1,<1.26,>=1.21.1 in /usr/local/lib/python3.6/dist-packages (from requests>=2.10.0->newspaper3k) (1.24.3)\n",
            "Requirement already satisfied: certifi>=2017.4.17 in /usr/local/lib/python3.6/dist-packages (from requests>=2.10.0->newspaper3k) (2020.6.20)\n",
            "Requirement already satisfied: idna<3,>=2.5 in /usr/local/lib/python3.6/dist-packages (from requests>=2.10.0->newspaper3k) (2.10)\n",
            "Collecting sgmllib3k\n",
            "  Downloading https://files.pythonhosted.org/packages/9e/bd/3704a8c3e0942d711c1299ebf7b9091930adae6675d7c8f476a7ce48653c/sgmllib3k-1.0.0.tar.gz\n",
            "Collecting requests-file>=1.4\n",
            "  Downloading https://files.pythonhosted.org/packages/77/86/cdb5e8eaed90796aa83a6d9f75cfbd37af553c47a291cd47bc410ef9bdb2/requests_file-1.5.1-py2.py3-none-any.whl\n",
            "Requirement already satisfied: filelock>=3.0.8 in /usr/local/lib/python3.6/dist-packages (from tldextract>=2.0.1->newspaper3k) (3.0.12)\n",
            "Building wheels for collected packages: feedfinder2, jieba3k, tinysegmenter, sgmllib3k\n",
            "  Building wheel for feedfinder2 (setup.py) ... \u001b[?25l\u001b[?25hdone\n",
            "  Created wheel for feedfinder2: filename=feedfinder2-0.0.4-cp36-none-any.whl size=3355 sha256=9b4290a709aebd2115900be6483583822acb64c27147f30db5fe413f25ceb362\n",
            "  Stored in directory: /root/.cache/pip/wheels/de/03/ca/778e3a7a627e3d98836cc890e7cb40c7575424cfd3340f40ed\n",
            "  Building wheel for jieba3k (setup.py) ... \u001b[?25l\u001b[?25hdone\n",
            "  Created wheel for jieba3k: filename=jieba3k-0.35.1-cp36-none-any.whl size=7398406 sha256=6c0ade28cac3038b223898a130dfaa49489448a142ef1148f442d65f9fdc3f75\n",
            "  Stored in directory: /root/.cache/pip/wheels/83/15/9c/a3f1f67e7f7181170ad37d32e503c35da20627c013f438ed34\n",
            "  Building wheel for tinysegmenter (setup.py) ... \u001b[?25l\u001b[?25hdone\n",
            "  Created wheel for tinysegmenter: filename=tinysegmenter-0.3-cp36-none-any.whl size=13538 sha256=bffbd66a1d137ad39835163f7040d743c42be1a4fbea14777a8cdf43b2f516c5\n",
            "  Stored in directory: /root/.cache/pip/wheels/81/2b/43/a02ede72324dd40cdd7ca53aad718c7710628e91b8b0dc0f02\n",
            "  Building wheel for sgmllib3k (setup.py) ... \u001b[?25l\u001b[?25hdone\n",
            "  Created wheel for sgmllib3k: filename=sgmllib3k-1.0.0-cp36-none-any.whl size=6067 sha256=75431df5c1ad69f629daf1c191c8f4f5719d004a228908bc9650328bd538e8c8\n",
            "  Stored in directory: /root/.cache/pip/wheels/f1/80/5a/444ba08a550cdd241bd9baf8bae44be750efe370adb944506a\n",
            "Successfully built feedfinder2 jieba3k tinysegmenter sgmllib3k\n",
            "Installing collected packages: feedfinder2, sgmllib3k, feedparser, jieba3k, tinysegmenter, cssselect, requests-file, tldextract, newspaper3k\n",
            "Successfully installed cssselect-1.1.0 feedfinder2-0.0.4 feedparser-6.0.2 jieba3k-0.35.1 newspaper3k-0.2.8 requests-file-1.5.1 sgmllib3k-1.0.0 tinysegmenter-0.3 tldextract-3.0.2\n"
          ],
          "name": "stdout"
        }
      ]
    },
    {
      "cell_type": "code",
      "metadata": {
        "id": "L3zKhZvx3c3y"
      },
      "source": [
        "#Import the libaries\n",
        "from newspaper import Article\n",
        "import random\n",
        "import string\n",
        "import nltk\n",
        "from sklearn.feature_extraction.text import CountVectorizer\n",
        "from sklearn.metrics.pairwise import cosine_similarity\n",
        "import numpy as np\n",
        "import warnings\n",
        "warnings.filterwarnings('ignore')"
      ],
      "execution_count": null,
      "outputs": []
    },
    {
      "cell_type": "code",
      "metadata": {
        "id": "ojE6hzEB8am3",
        "outputId": "6f192442-3c40-40c7-a8ae-6aa61d074073",
        "colab": {
          "base_uri": "https://localhost:8080/"
        }
      },
      "source": [
        "#Dowload the punkt package\n",
        "nltk.download('punkt', quiet=True)\n"
      ],
      "execution_count": null,
      "outputs": [
        {
          "output_type": "execute_result",
          "data": {
            "text/plain": [
              "True"
            ]
          },
          "metadata": {
            "tags": []
          },
          "execution_count": 7
        }
      ]
    },
    {
      "cell_type": "code",
      "metadata": {
        "id": "TX2Ikekq82CO"
      },
      "source": [
        "#Get the article\n",
        "article = Article ('https://snatchbot.me/amp/blog/130/legal-chatbots')\n",
        "article.download()\n",
        "article.parse()\n",
        "article.nlp()\n",
        "corpus = article.text\n"
      ],
      "execution_count": null,
      "outputs": []
    },
    {
      "cell_type": "code",
      "metadata": {
        "id": "Usm_2sDZ_2GG",
        "outputId": "b583637e-a775-4e91-954f-d38557abab16",
        "colab": {
          "base_uri": "https://localhost:8080/"
        }
      },
      "source": [
        "#print the articles text\n",
        "print(corpus)"
      ],
      "execution_count": null,
      "outputs": [
        {
          "output_type": "stream",
          "text": [
            "How Legal Chatbots Will Automate Lawyer Services in the Future\n",
            "\n",
            "How Legal Chatbots Will Automate Lawyer Services in the Future\n",
            "\n",
            "Chatbots are revolutionizing almost every industry, and they can now provide AI legal services as well. People can chat with a lawyer online for free now, initiating an online legal chat with a virtual legal assistant to quickly get all the help they need.\n",
            "\n",
            "But will lawyers be automated because of legal chatbots? Far from it.\n",
            "\n",
            "A so-called chatbot lawyer can’t and won’t replace an actual human lawyer. No matter how advanced AI in chatbots becomes in the future, we will always need the human touch, especially with legal matters.\n",
            "\n",
            "A law bot can only enhance the work of lawyers. It could never automate them and take their jobs. It can only automate their administrative and financial tasks and provide some other basic legal virtual assistant services.\n",
            "\n",
            "With automated legal services, lawyers can save valuable time that they can focus on competencies that matter, thus providing better service to clients and ultimately earning more money.\n",
            "\n",
            "Let’s see how chatbot lawyer assistants will transform the legal industry.\n",
            "\n",
            "Potential Uses for Legal Chatbots\n",
            "\n",
            "There are many ways you can use legal chatbots to help your clients. You can feed your law bot as much information as you want, enabling it to accurately answer literally any legal question.\n",
            "\n",
            "But here are some remarkable AI legal services we can definitely expect from bots in the near future.\n",
            "\n",
            "Arranging Meetings with Clients\n",
            "\n",
            "One of the most tedious tasks law firms frequently deal with is setting up client meetings. Instead of using the time to prepare well for all those meetings, they have to first learn about each client’s needs and requirements.\n",
            "\n",
            "Of course, that’s absolutely necessary. But it’s also time-consuming.\n",
            "\n",
            "With a dedicated chatbot lawyer, you could still learn everything about each client’s case, but without spending too much time with them on the phone or exchanging emails.\n",
            "\n",
            "Your bot could do all the legwork for you before scheduling a consultation with the most appropriate lawyer based on the client’s needs. It could then forward all the information it acquired to the lawyer so that they’ll know what to do before the initial consultation.\n",
            "\n",
            "Helping with Quick Legal Advice\n",
            "\n",
            "Your current and potential clients can already get efficient and effective chatbot legal counsel, but we’re bound to see the service get more advanced. They can now initiate a legal questions chat conversation and get all the needed answers in a matter of seconds.\n",
            "\n",
            "Whether they have financial services legal questions, questions about their legal rights, or want to know more about a particular law, a law bot can be there to answer quickly and accurately – 24/7. This\n",
            "\n",
            "Imagine having to answer questions of dozens of clients a day, all requiring quick legal advice.\n",
            "\n",
            "And since bots are available 24/7, your clients can resolve their issues at any time of day. That 24-hour service is the best feature of chatbots, according to 64% of internet users.\n",
            "\n",
            "Information Gathering for Content Ideas\n",
            "\n",
            "If you run a legal blog on your website, consistently creating fresh blog posts may become a bit challenging after a while, especially if you’ve covered a wealth of topics over the years.\n",
            "\n",
            "Your virtual legal assistant could come in handy here as well.\n",
            "\n",
            "It could use its AI algorithms to conduct artificial intelligence legal research and gather excellent ideas for relevant and informative content. AI can already sift through vast amounts of online data, so why not leverage that to discover the most relevant industry topics that your target customers are interested in?\n",
            "\n",
            "It could also come up with content ideas based on the information from your online legal chat queries. That way, you’ll be able to provide your customers with precisely what they’re looking for.\n",
            "\n",
            "Automating Lead Generation\n",
            "\n",
            "Every lead generation process starts with some kind of interaction. If your legal chatbot is programmed to provide exceptional service, it will help you generate more leads.\n",
            "\n",
            "Of course, there’s that need for human touch, which is the only thing that can convert a lead. But a great AI-powered chatbot can play a big part in guiding a lead towards conversion.\n",
            "\n",
            "It can help people resolve minor legal issues, and instantly recognize a point when it should transfer a conversation to a real lawyer.\n",
            "\n",
            "As it can carry out intelligent conversations (thanks to AI, machine learning, and natural language processing or NLP), both initial interaction and that transfer will be seamless, without your leads ever bouncing back.\n",
            "\n",
            "Examples of Legal Chatbots\n",
            "\n",
            "These are some outstanding legal chatbots that have garnered a huge number of users worldwide.\n",
            "\n",
            "DoNotPay\n",
            "\n",
            "DoNotPay chatbot (the type of chatbot that people are looking for), known as the world’s first robot lawyer, started off as a bot for helping people dispute parking tickets. Now, it’s an app offering many other free AI legal services.\n",
            "\n",
            "As it states on the robot lawyer website, DoNotPay can help you fight corporations, beat bureaucracy, find hidden money, cancel free trials, and resolve other legal issues.\n",
            "\n",
            "Ailiria\n",
            "\n",
            "Ailira (the type of chatbot that people are looking for) is an artificial intelligence legal research assistant that provides free chatbot legal counsel.\n",
            "\n",
            "It’s constantly learning various aspects of law and can help with tax research, wills and estate planning, business structuring, quick legal advice, and more.\n",
            "\n",
            "Visa Chatbot\n",
            "\n",
            "Visa chatbot, based on IBM Watson’s platform, is an AI legal bot for streamlining immigration services, including completing U.S. visa applications.\n",
            "\n",
            "It’s incredibly fast and cost-efficient, helping people easily acquire their visas to work, travel, or relocate to the U.S.\n",
            "\n",
            "LegalMation\n",
            "\n",
            "LegalMation is an IBM Watson legal advice app for automating litigation tasks. It can draft top-notch litigation documents in minutes, saving lawyers a great deal of time and money.\n",
            "\n",
            "Setting Up a Legal Chatbot with SnatchBot\n",
            "\n",
            "SnatchBot is the best platform for building chatbots, including legal bots.\n",
            "\n",
            "Creating a chatbot with SnatchBot is incredibly easy. You don’t even need to know any programming language to build a functional legal bot on the platform.\n",
            "\n",
            "With SnatchBot, you can build your own free AI lawyer in just a matter of minutes. All you need to do is follow these simple steps:\n",
            "\n",
            "Register for an account Log into your Dashboard Select the My Bots option Click the Create Bot button Choose one of our ready-made bot templates Specify your bot’s name, description, and language Upload an image for your bot’s avatar Click the Create button Add interactions, bot statements, and connections Toggle the Test chat switch to test your bot Publish your bot on the SnatchBot Directory Click on Channels to deploy your bot on your website and other channels\n",
            "\n",
            "Congratulations! Your clients can chat with a lawyer online for free now.\n",
            "\n",
            "This may seem like a lot, but it’s pretty straightforward, as you’ll see if you visit the platform.\n",
            "\n",
            "Conclusion\n",
            "\n",
            "The future of chatbots is bright, and AI legal services are taking over the world. So, embrace legal virtual assistant services, as they’ll transform your law firm in ways you never even thought possible.\n",
            "\n",
            "But whichever chatbot-building platform you choose, make sure you avoid any potential chatbot legal issues. Discuss data protection, third-party rights, and similar matters with your provider in detail. You also need to meet industry regulations and standards and put proper chatbot policies in place.\n",
            "\n",
            "SnatchBot is fully committed to data protection and GDPR compliance, as one of our top priorities is to keep all our users’ data safe and secure. With SnatchBot, you’ll never have to lose sleep over potential chatbot legal issues.\n",
            "\n",
            "Create a free AI lawyer on SnatchBot today, and start saving time and money with automated legal services that will delight all your prospects and clients.\n"
          ],
          "name": "stdout"
        }
      ]
    },
    {
      "cell_type": "code",
      "metadata": {
        "id": "m3PNEVWDAV9r"
      },
      "source": [
        "#tokenization\n",
        "text = corpus\n",
        "sentence_list = nltk.sent_tokenize(text) # A list of sentences"
      ],
      "execution_count": null,
      "outputs": []
    },
    {
      "cell_type": "code",
      "metadata": {
        "id": "lJBGI8_2AvWu",
        "outputId": "95db026f-21e1-4c9d-ddda-ef4d1d6a5c73",
        "colab": {
          "base_uri": "https://localhost:8080/"
        }
      },
      "source": [
        "#print the list of sentences\n",
        "print(sentence_list)"
      ],
      "execution_count": null,
      "outputs": [
        {
          "output_type": "stream",
          "text": [
            "['How Legal Chatbots Will Automate Lawyer Services in the Future\\n\\nHow Legal Chatbots Will Automate Lawyer Services in the Future\\n\\nChatbots are revolutionizing almost every industry, and they can now provide AI legal services as well.', 'People can chat with a lawyer online for free now, initiating an online legal chat with a virtual legal assistant to quickly get all the help they need.', 'But will lawyers be automated because of legal chatbots?', 'Far from it.', 'A so-called chatbot lawyer can’t and won’t replace an actual human lawyer.', 'No matter how advanced AI in chatbots becomes in the future, we will always need the human touch, especially with legal matters.', 'A law bot can only enhance the work of lawyers.', 'It could never automate them and take their jobs.', 'It can only automate their administrative and financial tasks and provide some other basic legal virtual assistant services.', 'With automated legal services, lawyers can save valuable time that they can focus on competencies that matter, thus providing better service to clients and ultimately earning more money.', 'Let’s see how chatbot lawyer assistants will transform the legal industry.', 'Potential Uses for Legal Chatbots\\n\\nThere are many ways you can use legal chatbots to help your clients.', 'You can feed your law bot as much information as you want, enabling it to accurately answer literally any legal question.', 'But here are some remarkable AI legal services we can definitely expect from bots in the near future.', 'Arranging Meetings with Clients\\n\\nOne of the most tedious tasks law firms frequently deal with is setting up client meetings.', 'Instead of using the time to prepare well for all those meetings, they have to first learn about each client’s needs and requirements.', 'Of course, that’s absolutely necessary.', 'But it’s also time-consuming.', 'With a dedicated chatbot lawyer, you could still learn everything about each client’s case, but without spending too much time with them on the phone or exchanging emails.', 'Your bot could do all the legwork for you before scheduling a consultation with the most appropriate lawyer based on the client’s needs.', 'It could then forward all the information it acquired to the lawyer so that they’ll know what to do before the initial consultation.', 'Helping with Quick Legal Advice\\n\\nYour current and potential clients can already get efficient and effective chatbot legal counsel, but we’re bound to see the service get more advanced.', 'They can now initiate a legal questions chat conversation and get all the needed answers in a matter of seconds.', 'Whether they have financial services legal questions, questions about their legal rights, or want to know more about a particular law, a law bot can be there to answer quickly and accurately – 24/7.', 'This\\n\\nImagine having to answer questions of dozens of clients a day, all requiring quick legal advice.', 'And since bots are available 24/7, your clients can resolve their issues at any time of day.', 'That 24-hour service is the best feature of chatbots, according to 64% of internet users.', 'Information Gathering for Content Ideas\\n\\nIf you run a legal blog on your website, consistently creating fresh blog posts may become a bit challenging after a while, especially if you’ve covered a wealth of topics over the years.', 'Your virtual legal assistant could come in handy here as well.', 'It could use its AI algorithms to conduct artificial intelligence legal research and gather excellent ideas for relevant and informative content.', 'AI can already sift through vast amounts of online data, so why not leverage that to discover the most relevant industry topics that your target customers are interested in?', 'It could also come up with content ideas based on the information from your online legal chat queries.', 'That way, you’ll be able to provide your customers with precisely what they’re looking for.', 'Automating Lead Generation\\n\\nEvery lead generation process starts with some kind of interaction.', 'If your legal chatbot is programmed to provide exceptional service, it will help you generate more leads.', 'Of course, there’s that need for human touch, which is the only thing that can convert a lead.', 'But a great AI-powered chatbot can play a big part in guiding a lead towards conversion.', 'It can help people resolve minor legal issues, and instantly recognize a point when it should transfer a conversation to a real lawyer.', 'As it can carry out intelligent conversations (thanks to AI, machine learning, and natural language processing or NLP), both initial interaction and that transfer will be seamless, without your leads ever bouncing back.', 'Examples of Legal Chatbots\\n\\nThese are some outstanding legal chatbots that have garnered a huge number of users worldwide.', 'DoNotPay\\n\\nDoNotPay chatbot (the type of chatbot that people are looking for), known as the world’s first robot lawyer, started off as a bot for helping people dispute parking tickets.', 'Now, it’s an app offering many other free AI legal services.', 'As it states on the robot lawyer website, DoNotPay can help you fight corporations, beat bureaucracy, find hidden money, cancel free trials, and resolve other legal issues.', 'Ailiria\\n\\nAilira (the type of chatbot that people are looking for) is an artificial intelligence legal research assistant that provides free chatbot legal counsel.', 'It’s constantly learning various aspects of law and can help with tax research, wills and estate planning, business structuring, quick legal advice, and more.', 'Visa Chatbot\\n\\nVisa chatbot, based on IBM Watson’s platform, is an AI legal bot for streamlining immigration services, including completing U.S. visa applications.', 'It’s incredibly fast and cost-efficient, helping people easily acquire their visas to work, travel, or relocate to the U.S.\\n\\nLegalMation\\n\\nLegalMation is an IBM Watson legal advice app for automating litigation tasks.', 'It can draft top-notch litigation documents in minutes, saving lawyers a great deal of time and money.', 'Setting Up a Legal Chatbot with SnatchBot\\n\\nSnatchBot is the best platform for building chatbots, including legal bots.', 'Creating a chatbot with SnatchBot is incredibly easy.', 'You don’t even need to know any programming language to build a functional legal bot on the platform.', 'With SnatchBot, you can build your own free AI lawyer in just a matter of minutes.', 'All you need to do is follow these simple steps:\\n\\nRegister for an account Log into your Dashboard Select the My Bots option Click the Create Bot button Choose one of our ready-made bot templates Specify your bot’s name, description, and language Upload an image for your bot’s avatar Click the Create button Add interactions, bot statements, and connections Toggle the Test chat switch to test your bot Publish your bot on the SnatchBot Directory Click on Channels to deploy your bot on your website and other channels\\n\\nCongratulations!', 'Your clients can chat with a lawyer online for free now.', 'This may seem like a lot, but it’s pretty straightforward, as you’ll see if you visit the platform.', 'Conclusion\\n\\nThe future of chatbots is bright, and AI legal services are taking over the world.', 'So, embrace legal virtual assistant services, as they’ll transform your law firm in ways you never even thought possible.', 'But whichever chatbot-building platform you choose, make sure you avoid any potential chatbot legal issues.', 'Discuss data protection, third-party rights, and similar matters with your provider in detail.', 'You also need to meet industry regulations and standards and put proper chatbot policies in place.', 'SnatchBot is fully committed to data protection and GDPR compliance, as one of our top priorities is to keep all our users’ data safe and secure.', 'With SnatchBot, you’ll never have to lose sleep over potential chatbot legal issues.', 'Create a free AI lawyer on SnatchBot today, and start saving time and money with automated legal services that will delight all your prospects and clients.']\n"
          ],
          "name": "stdout"
        }
      ]
    },
    {
      "cell_type": "code",
      "metadata": {
        "id": "XQ9N6W6yBP1B"
      },
      "source": [
        "#a function to return a a random greeting response to a users greeting\n",
        "def greeting_response(text):\n",
        "  text = text.lower()\n",
        "    #bots greetings\n",
        "  bot_greetings = ['hello', 'hi', 'hai']\n",
        "     #users greetings\n",
        "  user_greetings = ['hello', 'hi', 'hai']\n",
        "\n",
        "\n",
        "  for word in text.split():\n",
        "       if word in user_greetings:\n",
        "         return random.choice(bot_greetings)"
      ],
      "execution_count": 70,
      "outputs": []
    },
    {
      "cell_type": "code",
      "metadata": {
        "id": "wdSRaWnuIvQB"
      },
      "source": [
        "def index_sort(list_var):\n",
        "  length = len(list_var)\n",
        "  list_index = list(range(0,length))\n",
        "\n",
        "  x = list_var\n",
        "  for i in range(length):\n",
        "    for j in range(length):\n",
        "      if x[list_index[i]] > x[list_index[j]]:\n",
        "      #swap\n",
        "       temp = list_index[i]\n",
        "      list_index[i] = list_index[j]\n",
        "      list_index[j] = temp\n",
        "\n",
        "  return list_index\n",
        "  \n"
      ],
      "execution_count": null,
      "outputs": []
    },
    {
      "cell_type": "code",
      "metadata": {
        "id": "oqNkJO1PFGsk"
      },
      "source": [
        "#create the bots response\n",
        "def bot_response(user_input):\n",
        "  user_input = user_input.lower()\n",
        "  sentence_list.append(user_input)\n",
        "  bot_response = ''\n",
        "  cm = CountVectorizer().fit_transofrm(sentence_list)\n",
        "  similarity_scores = cosine_similarity(cm[-1],cm)\n",
        "  similarity_scores_list = similarity_scores.flatten()\n",
        "  index = index_sort(similarity_scores_list)\n",
        "  index = index[1:]\n",
        "  response_flag = 0\n",
        "\n",
        "  j = 0 \n",
        "  for i in range(len(index)):\n",
        "     if similarity_scores_list[index[i]] > 0.0:\n",
        "       bot_response = bot_response+''+sentence_list[index[i]]\n",
        "       response_flag = 1\n",
        "       j = j+1\n",
        "     if j>2:\n",
        "        break\n",
        "\n",
        "  if response_flag == 0:\n",
        "      bot_response = bot_response+''+\"I apologize I dont understand.\"\n",
        "\n",
        "  sentence_list.remove(user_input)\n",
        "\n",
        "  return bot_response \n",
        "    \n"
      ],
      "execution_count": 74,
      "outputs": []
    },
    {
      "cell_type": "code",
      "metadata": {
        "id": "yhY1B-MyQq5k",
        "outputId": "b3a15f04-21cb-42b0-a9e9-b0b3063799f2",
        "colab": {
          "base_uri": "https://localhost:8080/",
          "height": 380
        }
      },
      "source": [
        "#start chat\n",
        "print('hello,im the legal chatbot i will give you any information about legat chatbots. if you want to exit please type, bye.')\n",
        "\n",
        "exit_list = ['exit', 'bye']\n",
        "\n",
        "while(True):\n",
        "  user_input = input()\n",
        "  if user_input.lower() in exit_list:\n",
        "    print('see u later!')\n",
        "    break\n",
        "  else:\n",
        "   if greeting_response(user_input) != None:\n",
        "      print('law bot: '+greeting_response(user_input))\n",
        "   else:\n",
        "      print('law bot: '+bot_response(user_input))\n"
      ],
      "execution_count": 78,
      "outputs": [
        {
          "output_type": "stream",
          "text": [
            "hello,im the legal chatbot i will give you any information about legat chatbots. if you want to exit please type, bye.\n",
            "hi\n",
            "law bot: hi\n",
            "legal issues\n"
          ],
          "name": "stdout"
        },
        {
          "output_type": "error",
          "ename": "AttributeError",
          "evalue": "ignored",
          "traceback": [
            "\u001b[0;31m---------------------------------------------------------------------------\u001b[0m",
            "\u001b[0;31mAttributeError\u001b[0m                            Traceback (most recent call last)",
            "\u001b[0;32m<ipython-input-78-320db0463bb6>\u001b[0m in \u001b[0;36m<module>\u001b[0;34m()\u001b[0m\n\u001b[1;32m     13\u001b[0m       \u001b[0mprint\u001b[0m\u001b[0;34m(\u001b[0m\u001b[0;34m'law bot: '\u001b[0m\u001b[0;34m+\u001b[0m\u001b[0mgreeting_response\u001b[0m\u001b[0;34m(\u001b[0m\u001b[0muser_input\u001b[0m\u001b[0;34m)\u001b[0m\u001b[0;34m)\u001b[0m\u001b[0;34m\u001b[0m\u001b[0;34m\u001b[0m\u001b[0m\n\u001b[1;32m     14\u001b[0m    \u001b[0;32melse\u001b[0m\u001b[0;34m:\u001b[0m\u001b[0;34m\u001b[0m\u001b[0;34m\u001b[0m\u001b[0m\n\u001b[0;32m---> 15\u001b[0;31m       \u001b[0mprint\u001b[0m\u001b[0;34m(\u001b[0m\u001b[0;34m'law bot: '\u001b[0m\u001b[0;34m+\u001b[0m\u001b[0mbot_response\u001b[0m\u001b[0;34m(\u001b[0m\u001b[0muser_input\u001b[0m\u001b[0;34m)\u001b[0m\u001b[0;34m)\u001b[0m\u001b[0;34m\u001b[0m\u001b[0;34m\u001b[0m\u001b[0m\n\u001b[0m",
            "\u001b[0;32m<ipython-input-74-b74158580de9>\u001b[0m in \u001b[0;36mbot_response\u001b[0;34m(user_input)\u001b[0m\n\u001b[1;32m      4\u001b[0m   \u001b[0msentence_list\u001b[0m\u001b[0;34m.\u001b[0m\u001b[0mappend\u001b[0m\u001b[0;34m(\u001b[0m\u001b[0muser_input\u001b[0m\u001b[0;34m)\u001b[0m\u001b[0;34m\u001b[0m\u001b[0;34m\u001b[0m\u001b[0m\n\u001b[1;32m      5\u001b[0m   \u001b[0mbot_response\u001b[0m \u001b[0;34m=\u001b[0m \u001b[0;34m''\u001b[0m\u001b[0;34m\u001b[0m\u001b[0;34m\u001b[0m\u001b[0m\n\u001b[0;32m----> 6\u001b[0;31m   \u001b[0mcm\u001b[0m \u001b[0;34m=\u001b[0m \u001b[0mCountVectorizer\u001b[0m\u001b[0;34m(\u001b[0m\u001b[0;34m)\u001b[0m\u001b[0;34m.\u001b[0m\u001b[0mfit_transofrm\u001b[0m\u001b[0;34m(\u001b[0m\u001b[0msentence_list\u001b[0m\u001b[0;34m)\u001b[0m\u001b[0;34m\u001b[0m\u001b[0;34m\u001b[0m\u001b[0m\n\u001b[0m\u001b[1;32m      7\u001b[0m   \u001b[0msimilarity_scores\u001b[0m \u001b[0;34m=\u001b[0m \u001b[0mcosine_similarity\u001b[0m\u001b[0;34m(\u001b[0m\u001b[0mcm\u001b[0m\u001b[0;34m[\u001b[0m\u001b[0;34m-\u001b[0m\u001b[0;36m1\u001b[0m\u001b[0;34m]\u001b[0m\u001b[0;34m,\u001b[0m\u001b[0mcm\u001b[0m\u001b[0;34m)\u001b[0m\u001b[0;34m\u001b[0m\u001b[0;34m\u001b[0m\u001b[0m\n\u001b[1;32m      8\u001b[0m   \u001b[0msimilarity_scores_list\u001b[0m \u001b[0;34m=\u001b[0m \u001b[0msimilarity_scores\u001b[0m\u001b[0;34m.\u001b[0m\u001b[0mflatten\u001b[0m\u001b[0;34m(\u001b[0m\u001b[0;34m)\u001b[0m\u001b[0;34m\u001b[0m\u001b[0;34m\u001b[0m\u001b[0m\n",
            "\u001b[0;31mAttributeError\u001b[0m: 'CountVectorizer' object has no attribute 'fit_transofrm'"
          ]
        }
      ]
    }
  ]
}